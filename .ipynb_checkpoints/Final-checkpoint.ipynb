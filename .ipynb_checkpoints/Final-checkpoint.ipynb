{
 "cells": [
  {
   "cell_type": "code",
   "execution_count": 12,
   "metadata": {},
   "outputs": [],
   "source": [
    "import pandas as pd\n",
    "import requests\n",
    "from bs4 import BeautifulSoup as bs\n",
    "import time\n",
    "from selenium import webdriver\n",
    "import re\n",
    "from pandas.io.json import json_normalize \n",
    "import json"
   ]
  },
  {
   "cell_type": "code",
   "execution_count": 57,
   "metadata": {},
   "outputs": [],
   "source": [
    "#Api Kickstart, la pagina no tenia api oficial por lo que hice request directamente en su URL y maneje los JSON\n",
    "\n",
    "url = \"https://www.kickstarter.com/projects/search.json?search=&term=%s\"\n",
    "\n",
    "class jsonn:\n",
    "\n",
    "    def __init__(self, url_pattern, content_parser=None):\n",
    "        self.url_pattern = url_pattern\n",
    "        self.content_parser = content_parser\n",
    "         \n",
    "    def scrape_url(self, url):\n",
    "        res=requests.get(url)\n",
    "        response = res.json()\n",
    "        time.sleep(2)\n",
    "        result = self.content_parser(response)\n",
    "        self.output_results(result)\n",
    "        \n",
    "    def output_results(self, r):\n",
    "        dfArt=r[[\"name\",'country','category.name',\"goal\",\"state\",\"currency\",\"pledged\"]]\n",
    "        archivo= \"Kick.csv\"\n",
    "        txt=dfArt.to_csv()\n",
    "        csv=open(archivo,\"a\")\n",
    "        csv.write(txt)\n",
    "        return \n",
    "          \n",
    "    def kickstart(self):\n",
    "        lista=[\"Arte\",\"Comic\",\"Crafts\",\"Dance\",\"Technology\",\"Music\",\"Games\",\"Food\",\"Film\",\"Fashion\"]\n",
    "        for i in lista:\n",
    "            print(\"Get category: \",i)\n",
    "            self.scrape_url(self.url_pattern % i)\n",
    "    \n",
    "def quotes_parser(content):\n",
    "    df1=json_normalize(content[\"projects\"])\n",
    "    \n",
    "    return df1\n",
    "    \n",
    "kick = jsonn(url, content_parser=quotes_parser)  "
   ]
  },
  {
   "cell_type": "code",
   "execution_count": 58,
   "metadata": {
    "scrolled": true
   },
   "outputs": [
    {
     "name": "stdout",
     "output_type": "stream",
     "text": [
      "Get category:  Arte\n",
      "Get category:  Comic\n",
      "Get category:  Crafts\n",
      "Get category:  Dance\n",
      "Get category:  Technology\n",
      "Get category:  Music\n",
      "Get category:  Games\n",
      "Get category:  Food\n",
      "Get category:  Film\n",
      "Get category:  Fashion\n"
     ]
    }
   ],
   "source": [
    "kick.kickstart()"
   ]
  },
  {
   "cell_type": "code",
   "execution_count": 80,
   "metadata": {},
   "outputs": [
    {
     "data": {
      "text/plain": [
       "category.name        9\n",
       "Comic Books          8\n",
       "Accessories          5\n",
       "Crafts               5\n",
       "Music                5\n",
       "Performances         5\n",
       "Food                 4\n",
       "Apps                 4\n",
       "Tabletop Games       4\n",
       "Apparel              4\n",
       "Documentary          3\n",
       "Small Batch          3\n",
       "Electronic Music     3\n",
       "Spaces               3\n",
       "DIY                  3\n",
       "Video Games          3\n",
       "Graphic Novels       3\n",
       "Illustration         2\n",
       "Food Trucks          2\n",
       "Restaurants          2\n",
       "Shorts               2\n",
       "Mobile Games         2\n",
       "Woodworking          2\n",
       "Technology           2\n",
       "Painting             2\n",
       "Drama                2\n",
       "Art                  2\n",
       "Film & Video         2\n",
       "Webseries            2\n",
       "Experimental         2\n",
       "Web                  2\n",
       "Hip-Hop              2\n",
       "Science Fiction      2\n",
       "Gadgets              1\n",
       "Footwear             1\n",
       "World Music          1\n",
       "Software             1\n",
       "Action               1\n",
       "Games                1\n",
       "Pop                  1\n",
       "Product Design       1\n",
       "Narrative Film       1\n",
       "Fashion              1\n",
       "Comics               1\n",
       "Children's Books     1\n",
       "Robots               1\n",
       "Hardware             1\n",
       "Live Games           1\n",
       "Ceramics             1\n",
       "Festivals            1\n",
       "Crochet              1\n",
       "Classical Music      1\n",
       "Fiction              1\n",
       "Cookbooks            1\n",
       "Space Exploration    1\n",
       "Social Practice      1\n",
       "Name: category.name, dtype: int64"
      ]
     },
     "execution_count": 80,
     "metadata": {},
     "output_type": "execute_result"
    }
   ],
   "source": [
    "\n",
    "kick1=pd.read_csv(\"Kick.csv\")\n",
    "\n",
    "kick1['category.name'].value_counts()"
   ]
  }
 ],
 "metadata": {
  "kernelspec": {
   "display_name": "Python 3",
   "language": "python",
   "name": "python3"
  },
  "language_info": {
   "codemirror_mode": {
    "name": "ipython",
    "version": 3
   },
   "file_extension": ".py",
   "mimetype": "text/x-python",
   "name": "python",
   "nbconvert_exporter": "python",
   "pygments_lexer": "ipython3",
   "version": "3.7.3"
  }
 },
 "nbformat": 4,
 "nbformat_minor": 2
}
